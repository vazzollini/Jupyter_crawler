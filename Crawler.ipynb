{
 "cells": [
  {
   "cell_type": "markdown",
   "metadata": {},
   "source": [
    "# Selector Crawler\n",
    "\n",
    "###### This is a simple crawler tool created to test a given selector in a list of pages (URL's).\n",
    "\n",
    "In order to do this, you are going to need two things, the first would be the CSS selector you would like to tests and the second one would be the list of pages/URLs (xml file) in which you want to test the previously mentioned CSS selector."
   ]
  },
  {
   "cell_type": "markdown",
   "metadata": {},
   "source": [
    "## Getting the pages/URLs \n",
    "\n",
    "In order to get the xml file containing the list of pages to test the CSS selector on, you have to use an online tool called \"XML Sitemap Genertor\".\n",
    "\n",
    "To do so, please follow these steps:\n",
    "1. Go to the \"XML Sitemap Genertor\" website: https://www.xml-sitemaps.com/\n",
    "2. Choose and input in the text field at the top of the page the base URL in which you want this site list to start, so it pulls all the pages that start with that url. E.g. https://attitude.co.uk/ \n",
    "3. Click on the \"Start\" button.\n",
    "4. As soon as it is done, click on \"View Site Map\" button\n",
    "5. Click on \"Download your XML sitemap file\" to start the download of the xml file containing the list of pages to check.\n"
   ]
  },
  {
   "cell_type": "markdown",
   "metadata": {},
   "source": [
    "## Filtering the csv file to get only the URLs wanted\n",
    "\n",
    "Now that you have downloaded the csv file, we have to clean it up so the crawler only tests the intended pages.\n",
    "\n",
    "We can do this by specifying a base url to filter for, for example: https://attitude.co.uk/article/ will only test pages that start with that URL as a base.\n",
    "\n",
    "For example, lets say you pulled a sitelist using the tool \"XML Sitemap Genertor\" on https://attitude.co.uk/ and you got the following xml file:\n",
    "<img src=\"img_xml1.png\">\n",
    "\n",
    "Now, lets say you only want to test article pages, as you can see in the example above, it contains all type of pages not only the article ones (for example: https://attitude.co.uk/category/news/), to do this, you just have to specify a base url to filter for.\n",
    "\n",
    "For example: if we use the base URL https://attitude.co.uk/article/ on the above XML, this crawler will only test the css selectors only on the below pages.\n",
    "<img src=\"img_xml2.png\">"
   ]
  },
  {
   "cell_type": "code",
   "execution_count": 3,
   "metadata": {
    "scrolled": true
   },
   "outputs": [
    {
     "data": {
      "application/vnd.jupyter.widget-view+json": {
       "model_id": "676ccb8b27c240878c95e669da8a97fb",
       "version_major": 2,
       "version_minor": 0
      },
      "text/html": [
       "<p>Failed to display Jupyter Widget of type <code>VBox</code>.</p>\n",
       "<p>\n",
       "  If you're reading this message in the Jupyter Notebook or JupyterLab Notebook, it may mean\n",
       "  that the widgets JavaScript is still loading. If this message persists, it\n",
       "  likely means that the widgets JavaScript library is either not installed or\n",
       "  not enabled. See the <a href=\"https://ipywidgets.readthedocs.io/en/stable/user_install.html\">Jupyter\n",
       "  Widgets Documentation</a> for setup instructions.\n",
       "</p>\n",
       "<p>\n",
       "  If you're reading this message in another frontend (for example, a static\n",
       "  rendering on GitHub or <a href=\"https://nbviewer.jupyter.org/\">NBViewer</a>),\n",
       "  it may mean that your frontend doesn't currently support widgets.\n",
       "</p>\n"
      ],
      "text/plain": [
       "VBox(children=(HTML(value=''), IntProgress(value=0, max=26)))"
      ]
     },
     "metadata": {},
     "output_type": "display_data"
    },
    {
     "name": "stdout",
     "output_type": "stream",
     "text": [
      "NOT FOUND https://attitude.co.uk/article/dancing-on-ice-star-max-evans-opens-up-about-that-full-frontal-shoot-with-brother-thom-1/17429/\n",
      "NOT FOUND https://attitude.co.uk/article/86-year-old-attitude-reader-hugh-gets-naked-to-prove-youre-never-too-old-to-celebrate-your-body/17189/\n",
      "NOT FOUND https://attitude.co.uk/article/austin-armacosts-divorce-diet-reality-star-loses-two-stone-in-just-12-weeks-and-sculpts-his-dream-body-to-celebrate-his-new-life/17148/\n",
      "NOT FOUND https://attitude.co.uk/article/the-gay-star-of-sas-who-dares-wins-is-sticking-two-fingers-up-to-his-childhood-bullies/17011/\n",
      "NOT FOUND https://attitude.co.uk/article/geordie-shores-nathan-henry-how-i-lost-32lbs-and-sculpted-the-superman-body-of-my-dreams-in-just-12-weeks/16962/\n",
      "NOT FOUND https://attitude.co.uk/article/ms-menswear-launch-two-new-innovative-active-ranges-1/16964/\n",
      "NOT FOUND https://attitude.co.uk/article/real-bodies-life-doesnt-end-when-you-get-grey-hair-1/16949/\n",
      "NOT FOUND https://attitude.co.uk/article/new-vieve-sports-nutrition-gives-active-men-protein-without-the-artificial-ingredients/16916/\n",
      "NOT FOUND https://attitude.co.uk/article/max-emerson-strips-off-to-talk-health-and-fitness-with-attitude/16585/\n",
      "NOT FOUND https://attitude.co.uk/article/real-bodies-i-try-not-to-be-naked-even-in-front-of-my-husband-1/16577/\n",
      "NOT FOUND https://attitude.co.uk/article/attitudes-deputy-editor-embarks-on-three-month-body-transformation-part-one-1/16439/\n",
      "NOT FOUND https://attitude.co.uk/article/strictly-come-dancings-gorka-marquez-strips-off-and-talks-fitness-with-attitude-1/16364/\n",
      "NOT FOUND https://attitude.co.uk/article/showbiz-journalist-james-ingham-strips-off-for-attitudes-active-shoot-1/16379/\n",
      "NOT FOUND https://attitude.co.uk/article/gareth-gates-strips-down-and-shows-off-his-body-to-talk-fitness-with-attitude-1/16175/\n",
      "NOT FOUND https://attitude.co.uk/article/win-tickets-to-see-oceans-8-at-a-special-screening-and-two-tickets-to-the-premiere/18102/\n",
      "NOT FOUND https://attitude.co.uk/article/win-180-worth-of-absolute-collagen-goodies-1/17728/\n",
      "NOT FOUND https://attitude.co.uk/article/win-tickets-to-bfi-flare-presents-love-simon-terms-and-conditions/17380/\n",
      "NOT FOUND https://attitude.co.uk/article/give-him-the-ride-of-his-life-win-a-pair-of-eurostar-tickets-to-amsterdam-1/17239/\n"
     ]
    }
   ],
   "source": [
    "import xml.etree.ElementTree as T\n",
    "import re\n",
    "import lxml.html\n",
    "from lxml.cssselect import CSSSelector\n",
    "from IPython.display import clear_output\n",
    "import requests\n",
    "import csv\n",
    "from ipynb.fs.full.progress_bar import log_progress\n",
    "\n",
    "\n",
    "#Getting and Parsing the xml code\n",
    "while True:\n",
    "    try:\n",
    "#         xml_str = input('1.- Paste XML code: ')\n",
    "        xml_str = '''<?xml version=\"1.0\" encoding=\"UTF-8\"?>\n",
    "<urlset\n",
    "      xmlns=\"http://www.sitemaps.org/schemas/sitemap/0.9\"\n",
    "      xmlns:xsi=\"http://www.w3.org/2001/XMLSchema-instance\"\n",
    "      xsi:schemaLocation=\"http://www.sitemaps.org/schemas/sitemap/0.9\n",
    "            http://www.sitemaps.org/schemas/sitemap/0.9/sitemap.xsd\">\n",
    "<!-- created with Free Online Sitemap Generator www.xml-sitemaps.com -->\n",
    "\n",
    "\n",
    "<url>\n",
    "  <loc>https://attitude.co.uk/</loc>\n",
    "  <lastmod>2018-06-13T15:04:51+00:00</lastmod>\n",
    "  <priority>1.00</priority>\n",
    "</url>\n",
    "<url>\n",
    "  <loc>https://attitude.co.uk/category/news/</loc>\n",
    "  <lastmod>2018-06-13T15:04:51+00:00</lastmod>\n",
    "  <priority>0.80</priority>\n",
    "</url>\n",
    "<url>\n",
    "  <loc>https://attitude.co.uk/category/entertainment/</loc>\n",
    "  <lastmod>2018-06-13T15:04:51+00:00</lastmod>\n",
    "  <priority>0.80</priority>\n",
    "</url>\n",
    "<url>\n",
    "  <loc>https://attitude.co.uk/category/community/</loc>\n",
    "  <lastmod>2018-06-13T15:04:51+00:00</lastmod>\n",
    "  <priority>0.80</priority>\n",
    "</url>\n",
    "<url>\n",
    "  <loc>https://attitude.co.uk/category/boys/</loc>\n",
    "  <lastmod>2018-06-13T15:04:51+00:00</lastmod>\n",
    "  <priority>0.80</priority>\n",
    "</url>\n",
    "<url>\n",
    "  <loc>https://attitude.co.uk/category/opinion/</loc>\n",
    "  <lastmod>2018-06-13T15:04:51+00:00</lastmod>\n",
    "  <priority>0.80</priority>\n",
    "</url>\n",
    "<url>\n",
    "  <loc>https://attitude.co.uk/category/style/</loc>\n",
    "  <lastmod>2018-06-13T15:04:51+00:00</lastmod>\n",
    "  <priority>0.80</priority>\n",
    "</url>\n",
    "\n",
    "<url>\n",
    "  <loc>https://attitude.co.uk/article/dancing-on-ice-star-max-evans-opens-up-about-that-full-frontal-shoot-with-brother-thom-1/17429/</loc>\n",
    "  <lastmod>2018-06-13T15:04:51+00:00</lastmod>\n",
    "  <priority>0.64</priority>\n",
    "</url>\n",
    "<url>\n",
    "  <loc>https://attitude.co.uk/article/86-year-old-attitude-reader-hugh-gets-naked-to-prove-youre-never-too-old-to-celebrate-your-body/17189/</loc>\n",
    "  <lastmod>2018-06-13T15:04:51+00:00</lastmod>\n",
    "  <priority>0.64</priority>\n",
    "</url>\n",
    "<url>\n",
    "  <loc>https://attitude.co.uk/article/austin-armacosts-divorce-diet-reality-star-loses-two-stone-in-just-12-weeks-and-sculpts-his-dream-body-to-celebrate-his-new-life/17148/</loc>\n",
    "  <lastmod>2018-06-13T15:04:51+00:00</lastmod>\n",
    "  <priority>0.64</priority>\n",
    "</url>\n",
    "<url>\n",
    "  <loc>https://attitude.co.uk/article/the-gay-star-of-sas-who-dares-wins-is-sticking-two-fingers-up-to-his-childhood-bullies/17011/</loc>\n",
    "  <lastmod>2018-06-13T15:04:51+00:00</lastmod>\n",
    "  <priority>0.64</priority>\n",
    "</url>\n",
    "<url>\n",
    "  <loc>https://attitude.co.uk/article/geordie-shores-nathan-henry-how-i-lost-32lbs-and-sculpted-the-superman-body-of-my-dreams-in-just-12-weeks/16962/</loc>\n",
    "  <lastmod>2018-06-13T15:04:51+00:00</lastmod>\n",
    "  <priority>0.64</priority>\n",
    "</url>\n",
    "<url>\n",
    "  <loc>https://attitude.co.uk/article/ms-menswear-launch-two-new-innovative-active-ranges-1/16964/</loc>\n",
    "  <lastmod>2018-06-13T15:04:51+00:00</lastmod>\n",
    "  <priority>0.64</priority>\n",
    "</url>\n",
    "<url>\n",
    "  <loc>https://attitude.co.uk/article/real-bodies-life-doesnt-end-when-you-get-grey-hair-1/16949/</loc>\n",
    "  <lastmod>2018-06-13T15:04:51+00:00</lastmod>\n",
    "  <priority>0.64</priority>\n",
    "</url>\n",
    "<url>\n",
    "  <loc>https://attitude.co.uk/article/new-vieve-sports-nutrition-gives-active-men-protein-without-the-artificial-ingredients/16916/</loc>\n",
    "  <lastmod>2018-06-13T15:04:51+00:00</lastmod>\n",
    "  <priority>0.64</priority>\n",
    "</url>\n",
    "<url>\n",
    "  <loc>https://attitude.co.uk/article/max-emerson-strips-off-to-talk-health-and-fitness-with-attitude/16585/</loc>\n",
    "  <lastmod>2018-06-13T15:04:51+00:00</lastmod>\n",
    "  <priority>0.64</priority>\n",
    "</url>\n",
    "<url>\n",
    "  <loc>https://attitude.co.uk/article/real-bodies-i-try-not-to-be-naked-even-in-front-of-my-husband-1/16577/</loc>\n",
    "  <lastmod>2018-06-13T15:04:51+00:00</lastmod>\n",
    "  <priority>0.64</priority>\n",
    "</url>\n",
    "<url>\n",
    "  <loc>https://attitude.co.uk/article/attitudes-deputy-editor-embarks-on-three-month-body-transformation-part-one-1/16439/</loc>\n",
    "  <lastmod>2018-06-13T15:04:51+00:00</lastmod>\n",
    "  <priority>0.64</priority>\n",
    "</url>\n",
    "<url>\n",
    "  <loc>https://attitude.co.uk/article/strictly-come-dancings-gorka-marquez-strips-off-and-talks-fitness-with-attitude-1/16364/</loc>\n",
    "  <lastmod>2018-06-13T15:04:51+00:00</lastmod>\n",
    "  <priority>0.64</priority>\n",
    "</url>\n",
    "<url>\n",
    "  <loc>https://attitude.co.uk/article/showbiz-journalist-james-ingham-strips-off-for-attitudes-active-shoot-1/16379/</loc>\n",
    "  <lastmod>2018-06-13T15:04:51+00:00</lastmod>\n",
    "  <priority>0.64</priority>\n",
    "</url>\n",
    "<url>\n",
    "  <loc>https://attitude.co.uk/article/gareth-gates-strips-down-and-shows-off-his-body-to-talk-fitness-with-attitude-1/16175/</loc>\n",
    "  <lastmod>2018-06-13T15:04:51+00:00</lastmod>\n",
    "  <priority>0.64</priority>\n",
    "</url>\n",
    "<url>\n",
    "  <loc>https://attitude.co.uk/category/active/?p=2</loc>\n",
    "  <lastmod>2018-06-13T15:04:51+00:00</lastmod>\n",
    "  <priority>0.64</priority>\n",
    "</url>\n",
    "<url>\n",
    "  <loc>https://attitude.co.uk/article/win-tickets-to-see-oceans-8-at-a-special-screening-and-two-tickets-to-the-premiere/18102/</loc>\n",
    "  <lastmod>2018-06-13T15:04:51+00:00</lastmod>\n",
    "  <priority>0.64</priority>\n",
    "</url>\n",
    "<url>\n",
    "  <loc>https://attitude.co.uk/article/win-180-worth-of-absolute-collagen-goodies-1/17728/</loc>\n",
    "  <lastmod>2018-06-13T15:04:51+00:00</lastmod>\n",
    "  <priority>0.64</priority>\n",
    "</url>\n",
    "<url>\n",
    "  <loc>https://attitude.co.uk/article/win-tickets-to-bfi-flare-presents-love-simon-terms-and-conditions/17380/</loc>\n",
    "  <lastmod>2018-06-13T15:04:51+00:00</lastmod>\n",
    "  <priority>0.64</priority>\n",
    "</url>\n",
    "<url>\n",
    "  <loc>https://attitude.co.uk/article/give-him-the-ride-of-his-life-win-a-pair-of-eurostar-tickets-to-amsterdam-1/17239/</loc>\n",
    "  <lastmod>2018-06-13T15:04:51+00:00</lastmod>\n",
    "  <priority>0.64</priority>\n",
    "</url>\n",
    "\n",
    "\n",
    "\n",
    "</urlset>'''\n",
    "        clear_output()\n",
    "        e = T.fromstring(xml_str)\n",
    "        break\n",
    "    except T.ParseError:\n",
    "        print(\"\\x1b[31mInvalid XML, please use valid XML code.\\x1b[0m\")\n",
    "\n",
    "\n",
    "#REGEX to filter out the sites being tested\n",
    "# base_url = input('2.- Enter base URL: ')\n",
    "base_url = 'https://attitude.co.uk/article/'\n",
    "clear_output()\n",
    "regex = re.compile(base_url)\n",
    "\n",
    "\n",
    "# construct a CSS Selector\n",
    "# css_selector = input('2.- Enter CSS Selector: ')\n",
    "css_selector = 'div.article-contents'\n",
    "clear_output()\n",
    "sel = CSSSelector(css_selector)\n",
    "# sel = CSSSelector('div.article-content')\n",
    "\n",
    "\n",
    "\n",
    "\n",
    "for loc in log_progress(e[:len(e.getchildren())]):\n",
    "    if(re.match(regex, loc[0].text)): #this will give me all the /article URLs in the XML\n",
    "        r = requests.get(loc[0].text)\n",
    "        # build the DOM Tree\n",
    "        tree = lxml.html.fromstring(r.text)\n",
    "        if(sel(tree)):\n",
    "#             filewriter.writerow(['YES', loc.text])\n",
    "            print('FOUND' + ' ' + loc[0].text)\n",
    "        else:\n",
    "#             filewriter.writerow(['NO', loc.text])\n",
    "            print('NOT FOUND' + ' ' + loc[0].text)\n",
    "\n",
    "        \n",
    "# with open('Selector_Crawler.csv', 'w') as csvfile:\n",
    "#     filewriter = csv.writer(csvfile, delimiter=',', quotechar='|', quoting=csv.QUOTE_MINIMAL)\n",
    "#     filewriter.writerow(['Matched Selector?', 'Exact Page URL'])\n",
    "\n",
    "#     for loc in e.iter('{http://www.sitemaps.org/schemas/sitemap/0.9}loc'):\n",
    "#         if(re.match(regex, loc.text)): #this will give me all the /article URLs in the XML\n",
    "#             r = requests.get(loc.text)\n",
    "#             # build the DOM Tree\n",
    "#             tree = lxml.html.fromstring(r.text)\n",
    "#             if(sel(tree)):\n",
    "#                 filewriter.writerow(['YES', loc.text])\n",
    "#                 print('FOUND' + ' ' + loc.text)\n",
    "#             else:\n",
    "#                 filewriter.writerow(['NO', loc.text])\n",
    "#                 print('NOT FOUND' + ' ' + loc.text)\n",
    "                \n",
    "\n",
    "\n",
    "\n",
    "\n",
    "\n"
   ]
  },
  {
   "cell_type": "code",
   "execution_count": 7,
   "metadata": {},
   "outputs": [
    {
     "data": {
      "text/markdown": [
       "# hey $\\phi$"
      ],
      "text/plain": [
       "<IPython.core.display.Markdown object>"
      ]
     },
     "metadata": {},
     "output_type": "display_data"
    }
   ],
   "source": [
    "from IPython.display import display, Markdown, Latex\n",
    "display(Markdown('# hey $\\phi$'))\n",
    "# If you particularly want to display maths, this is more direct:\n",
    "# display(Latex('\\phi'))"
   ]
  },
  {
   "cell_type": "code",
   "execution_count": 10,
   "metadata": {},
   "outputs": [
    {
     "data": {
      "application/vnd.jupyter.widget-view+json": {
       "model_id": "56d8b0c88e6647fbaaae77f5289a6b6a",
       "version_major": 2,
       "version_minor": 0
      },
      "text/html": [
       "<p>Failed to display Jupyter Widget of type <code>Box</code>.</p>\n",
       "<p>\n",
       "  If you're reading this message in the Jupyter Notebook or JupyterLab Notebook, it may mean\n",
       "  that the widgets JavaScript is still loading. If this message persists, it\n",
       "  likely means that the widgets JavaScript library is either not installed or\n",
       "  not enabled. See the <a href=\"https://ipywidgets.readthedocs.io/en/stable/user_install.html\">Jupyter\n",
       "  Widgets Documentation</a> for setup instructions.\n",
       "</p>\n",
       "<p>\n",
       "  If you're reading this message in another frontend (for example, a static\n",
       "  rendering on GitHub or <a href=\"https://nbviewer.jupyter.org/\">NBViewer</a>),\n",
       "  it may mean that your frontend doesn't currently support widgets.\n",
       "</p>\n"
      ],
      "text/plain": [
       "Box(children=(Button(button_style='danger', description='correct', layout=Layout(width='auto'), style=ButtonStyle()), Button(button_style='danger', description='horse', layout=Layout(width='auto'), style=ButtonStyle()), Button(button_style='danger', description='battery', layout=Layout(width='auto'), style=ButtonStyle()), Button(button_style='danger', description='staple', layout=Layout(width='auto'), style=ButtonStyle())), layout=Layout(align_items='stretch', border='solid', display='flex', flex_flow='column', width='50%'))"
      ]
     },
     "metadata": {},
     "output_type": "display_data"
    }
   ],
   "source": [
    "from ipywidgets import Layout, Button, Box\n",
    "\n",
    "items_layout = Layout( width='auto')     # override the default width of the button to 'auto' to let the button grow\n",
    "\n",
    "box_layout = Layout(display='flex',\n",
    "                    flex_flow='column',\n",
    "                    align_items='stretch',\n",
    "                    border='solid',\n",
    "                    width='50%')\n",
    "\n",
    "words = ['correct', 'horse', 'battery', 'staple']\n",
    "items = [Button(description=word, layout=items_layout, button_style='danger') for word in words]\n",
    "box = Box(children=items, layout=box_layout)\n",
    "box"
   ]
  },
  {
   "cell_type": "code",
   "execution_count": 14,
   "metadata": {},
   "outputs": [
    {
     "data": {
      "application/vnd.jupyter.widget-view+json": {
       "model_id": "984a12c9766e491994c745b9ce60efdf",
       "version_major": 2,
       "version_minor": 0
      },
      "text/html": [
       "<p>Failed to display Jupyter Widget of type <code>VBox</code>.</p>\n",
       "<p>\n",
       "  If you're reading this message in the Jupyter Notebook or JupyterLab Notebook, it may mean\n",
       "  that the widgets JavaScript is still loading. If this message persists, it\n",
       "  likely means that the widgets JavaScript library is either not installed or\n",
       "  not enabled. See the <a href=\"https://ipywidgets.readthedocs.io/en/stable/user_install.html\">Jupyter\n",
       "  Widgets Documentation</a> for setup instructions.\n",
       "</p>\n",
       "<p>\n",
       "  If you're reading this message in another frontend (for example, a static\n",
       "  rendering on GitHub or <a href=\"https://nbviewer.jupyter.org/\">NBViewer</a>),\n",
       "  it may mean that your frontend doesn't currently support widgets.\n",
       "</p>\n"
      ],
      "text/plain": [
       "VBox(children=(Box(children=(Button(button_style='danger', description='weight=1; auto', layout=Layout(flex='1 1 auto', width='auto'), style=ButtonStyle()), Button(button_style='danger', description='weight=3; auto', layout=Layout(flex='3 1 auto', width='auto'), style=ButtonStyle()), Button(button_style='danger', description='weight=1; auto', layout=Layout(flex='1 1 auto', width='auto'), style=ButtonStyle())), layout=Layout(align_items='stretch', display='flex', flex_flow='row', width='70%')), Box(children=(Button(button_style='danger', description='weight=1; 0%', layout=Layout(flex='1 1 0%', width='auto'), style=ButtonStyle()), Button(button_style='danger', description='weight=3; 0%', layout=Layout(flex='3 1 0%', width='auto'), style=ButtonStyle()), Button(button_style='danger', description='weight=1; 0%', layout=Layout(flex='1 1 0%', width='auto'), style=ButtonStyle())), layout=Layout(align_items='stretch', display='flex', flex_flow='row', width='70%'))))"
      ]
     },
     "metadata": {},
     "output_type": "display_data"
    }
   ],
   "source": [
    "from ipywidgets import Layout, Button, Box, VBox\n",
    "\n",
    "# Items flex proportionally to the weight and the left over space around the text\n",
    "items_auto = [\n",
    "    Button(description='weight=1; auto', layout=Layout(flex='1 1 auto', width='auto'), button_style='danger'),\n",
    "    Button(description='weight=3; auto', layout=Layout(flex='3 1 auto', width='auto'), button_style='danger'),\n",
    "    Button(description='weight=1; auto', layout=Layout(flex='1 1 auto', width='auto'), button_style='danger'),\n",
    " ]\n",
    "\n",
    "# Items flex proportionally to the weight\n",
    "items_0 = [\n",
    "    Button(description='weight=1; 0%', layout=Layout(flex='1 1 0%', width='auto'), button_style='danger'),\n",
    "    Button(description='weight=3; 0%', layout=Layout(flex='3 1 0%', width='auto'), button_style='danger'),\n",
    "    Button(description='weight=1; 0%', layout=Layout(flex='1 1 0%', width='auto'), button_style='danger'),\n",
    " ]\n",
    "box_layout = Layout(display='flex',\n",
    "                    flex_flow='row',\n",
    "                    align_items='stretch',\n",
    "                    width='70%')\n",
    "box_auto = Box(children=items_auto, layout=box_layout)\n",
    "box_0 = Box(children=items_0, layout=box_layout)\n",
    "VBox([box_auto, box_0])"
   ]
  },
  {
   "cell_type": "code",
   "execution_count": 18,
   "metadata": {},
   "outputs": [
    {
     "data": {
      "application/vnd.jupyter.widget-view+json": {
       "model_id": "fcd3dd5af36043798e2375000324f48a",
       "version_major": 2,
       "version_minor": 0
      },
      "text/html": [
       "<p>Failed to display Jupyter Widget of type <code>Button</code>.</p>\n",
       "<p>\n",
       "  If you're reading this message in the Jupyter Notebook or JupyterLab Notebook, it may mean\n",
       "  that the widgets JavaScript is still loading. If this message persists, it\n",
       "  likely means that the widgets JavaScript library is either not installed or\n",
       "  not enabled. See the <a href=\"https://ipywidgets.readthedocs.io/en/stable/user_install.html\">Jupyter\n",
       "  Widgets Documentation</a> for setup instructions.\n",
       "</p>\n",
       "<p>\n",
       "  If you're reading this message in another frontend (for example, a static\n",
       "  rendering on GitHub or <a href=\"https://nbviewer.jupyter.org/\">NBViewer</a>),\n",
       "  it may mean that your frontend doesn't currently support widgets.\n",
       "</p>\n"
      ],
      "text/plain": [
       "Button(description='(50% width, 80px height) button', layout=Layout(height='80px', width='50%'), style=ButtonStyle())"
      ]
     },
     "metadata": {},
     "output_type": "display_data"
    },
    {
     "name": "stdout",
     "output_type": "stream",
     "text": [
      "Button clicked.\n",
      "Button clicked.\n",
      "Button clicked.\n",
      "Button clicked.\n",
      "Button clicked.\n",
      "Button clicked.\n",
      "Button clicked.\n",
      "Button clicked.\n",
      "Button clicked.\n",
      "Button clicked.\n",
      "Button clicked.\n",
      "Button clicked.\n",
      "Button clicked.\n",
      "Button clicked.\n"
     ]
    }
   ],
   "source": [
    "\n",
    "\n",
    "from ipywidgets import Button, Layout\n",
    "\n",
    "b = Button(description='(50% width, 80px height) button',\n",
    "           layout=Layout(width='50%', height='80px'))\n",
    "b.on_click(on_button_clicked)\n",
    "b"
   ]
  }
 ],
 "metadata": {
  "kernelspec": {
   "display_name": "Python 3",
   "language": "python",
   "name": "python3"
  },
  "language_info": {
   "codemirror_mode": {
    "name": "ipython",
    "version": 3
   },
   "file_extension": ".py",
   "mimetype": "text/x-python",
   "name": "python",
   "nbconvert_exporter": "python",
   "pygments_lexer": "ipython3",
   "version": "3.6.4"
  }
 },
 "nbformat": 4,
 "nbformat_minor": 2
}
